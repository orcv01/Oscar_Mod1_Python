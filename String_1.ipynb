{
 "cells": [
  {
   "cell_type": "code",
   "execution_count": 1,
   "metadata": {},
   "outputs": [
    {
     "name": "stdout",
     "output_type": "stream",
     "text": [
      "Nunca confies en un ordenador que no puedas lanzar por una ventana -- Steve Wozniak\n"
     ]
    }
   ],
   "source": [
    "frase = \"Nunca confies en un ordenador que no puedas lanzar por una ventana -- Steve Wozniak\"\n",
    "\n",
    "print(frase)"
   ]
  },
  {
   "cell_type": "markdown",
   "metadata": {},
   "source": [
    "### Ejercicio 1\n",
    "- Obtener el largo de la frase."
   ]
  },
  {
   "cell_type": "code",
   "execution_count": 4,
   "metadata": {},
   "outputs": [
    {
     "name": "stdout",
     "output_type": "stream",
     "text": [
      "83\n"
     ]
    }
   ],
   "source": [
    "lenght = len(frase)\n",
    "print(lenght)"
   ]
  },
  {
   "cell_type": "markdown",
   "metadata": {},
   "source": [
    "### Ejercicio 2\n",
    "- Obtener la frase **\"lanzar por la ventana\"** usando slicing."
   ]
  },
  {
   "cell_type": "code",
   "execution_count": null,
   "metadata": {},
   "outputs": [
    {
     "name": "stdout",
     "output_type": "stream",
     "text": [
      " lanzar por una ventana\n"
     ]
    }
   ],
   "source": [
    "text_1 = frase[43:66]\n",
    "print(text_1)"
   ]
  },
  {
   "cell_type": "markdown",
   "metadata": {},
   "source": [
    "### Ejercicio 3\n",
    "- Obtener la sección **\"confies en un ordenador\"** haciando slicing de derecha a izquierda, utilizando indexing negativo."
   ]
  },
  {
   "cell_type": "code",
   "execution_count": 22,
   "metadata": {},
   "outputs": [
    {
     "name": "stdout",
     "output_type": "stream",
     "text": [
      "confies en un ordenado\n"
     ]
    }
   ],
   "source": [
    "# Utilizando slicing con índices negativos\n",
    "Text_2 = frase[-77:-55]\n",
    "\n",
    "print(Text_2)"
   ]
  },
  {
   "cell_type": "code",
   "execution_count": 5,
   "metadata": {},
   "outputs": [
    {
     "name": "stdout",
     "output_type": "stream",
     "text": [
      "Numero menor a cero o fuera de rango 8888\n",
      "Bien Hecho\n"
     ]
    }
   ],
   "source": [
    "while True:\n",
    "    try:\n",
    "        numero = int(input(\"introduce un num entre 1 y 50\"))\n",
    "        if numero >=1 and numero < 50:\n",
    "            print(\"Bien Hecho\")\n",
    "            break\n",
    "        else:\n",
    "            print(\"Numero menor a cero o fuera de rango\", numero)\n",
    "    except ValueError:\n",
    "        print(\"numero incorrecto\")\n",
    "else:\n",
    "        if numero %2 == 0:\n",
    "            print (f(\"El numero {numero} es par\"))\n",
    "        else:\n",
    "            print (f\"el numero {numero} es impar\")"
   ]
  },
  {
   "cell_type": "code",
   "execution_count": 2,
   "metadata": {},
   "outputs": [
    {
     "name": "stdout",
     "output_type": "stream",
     "text": [
      "Laptop\n",
      "999.99\n"
     ]
    }
   ],
   "source": [
    "# class Product con atributos: id, title, price, quantity, active, description\n",
    "# sin metodo init\n",
    "class Product:\n",
    "    id = 0\n",
    "    title = \"\"\n",
    "    price = 0.0\n",
    "    quantity = 0\n",
    "    active = False\n",
    "    description = \"\"\n",
    "    \n",
    "product1 = Product()\n",
    "product1.id = 123\n",
    "product1.title = \"Laptop\"\n",
    "product1.price = 999.99\n",
    "product1.quantity = 10\n",
    "product1.active = True\n",
    "product1.description = \"A powerful laptop for work and play.\"\n",
    "\n",
    "print(product1.title)  # Output: Laptop\n",
    "print(product1.price)  # Output: 999.99\n"
   ]
  }
 ],
 "metadata": {
  "kernelspec": {
   "display_name": "base",
   "language": "python",
   "name": "python3"
  },
  "language_info": {
   "codemirror_mode": {
    "name": "ipython",
    "version": 3
   },
   "file_extension": ".py",
   "mimetype": "text/x-python",
   "name": "python",
   "nbconvert_exporter": "python",
   "pygments_lexer": "ipython3",
   "version": "3.12.7"
  }
 },
 "nbformat": 4,
 "nbformat_minor": 2
}
