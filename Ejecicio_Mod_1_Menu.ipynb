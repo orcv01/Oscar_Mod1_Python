{
 "cells": [
  {
   "cell_type": "markdown",
   "metadata": {},
   "source": [
    "### Crear la clase usuario"
   ]
  },
  {
   "cell_type": "code",
   "execution_count": 1,
   "metadata": {},
   "outputs": [],
   "source": [
    "from datetime import date\n",
    "\n",
    "class Usuario:\n",
    "    def __init__(self, nombre, email, edad, altura, estudiante, cumpleaños=None):\n",
    "        self.nombre = nombre\n",
    "        self.email = email\n",
    "        self.edad = edad\n",
    "        self.altura = altura\n",
    "        self.estudiante = estudiante\n",
    "        self.cumpleaños = cumpleaños  \n",
    "\n",
    "    def __str__(self):\n",
    "        return (f\"Nombre: {self.nombre}, Email: {self.email}, Edad: {self.edad}, \"\n",
    "                f\"Altura: {self.altura}, Estudiante: {self.estudiante}, \"\n",
    "                f\"Cumpleaños: {self.cumpleaños if self.cumpleaños else 'N/A'}\")\n"
   ]
  },
  {
   "cell_type": "markdown",
   "metadata": {},
   "source": [
    "### Crear las operaciones CRUD como funciones"
   ]
  },
  {
   "cell_type": "code",
   "execution_count": null,
   "metadata": {},
   "outputs": [],
   "source": [
    "# Crear un nuevo usuario\n",
    "def crear_usuario():\n",
    "    nombre = input(\"Nombre: \")\n",
    "    email = input(\"Email: \")\n",
    "    edad = int(input(\"Edad: \"))\n",
    "    altura = float(input(\"Altura: \"))\n",
    "    estudiante_input = input(\"¿Es estudiante? (sí/no): \").lower()\n",
    "    estudiante = estudiante_input == 'sí' # Es un valor booleano si es true no es false\n",
    "\n",
    "    cumpleaños = None\n",
    "    opcion_fecha = input(\"¿Quieres ingresar la fecha de cumpleaños? (sí/no): \").lower()\n",
    "    if opcion_fecha == 'sí':\n",
    "        dia = int(input(\"Día de nacimiento: \"))\n",
    "        mes = int(input(\"Mes de nacimiento: \"))\n",
    "        año = int(input(\"Año de nacimiento: \"))\n",
    "        cumpleaños = date(año, mes, dia)\n",
    "\n",
    "    return Usuario(nombre, email, edad, altura, estudiante, cumpleaños)\n"
   ]
  },
  {
   "cell_type": "code",
   "execution_count": 3,
   "metadata": {},
   "outputs": [],
   "source": [
    "# Imprimir todos los usuarios\n",
    "def mostrar_usuarios(usuarios):\n",
    "    if not usuarios:\n",
    "        print(\"No hay usuarios en la lista.\")\n",
    "    else:\n",
    "        for usuario in usuarios:\n",
    "            print(usuario)\n"
   ]
  },
  {
   "cell_type": "code",
   "execution_count": null,
   "metadata": {},
   "outputs": [],
   "source": [
    "# Buscar un usuario por email\n",
    "def buscar_usuario_por_email(usuarios, email):\n",
    "    for usuario in usuarios:\n",
    "        if usuario.email == email:\n",
    "            return usuario\n",
    "    return None\n"
   ]
  },
  {
   "cell_type": "code",
   "execution_count": 4,
   "metadata": {},
   "outputs": [],
   "source": [
    "# Imprimir usuarios ordenados por edad\n",
    "# Función que devuelve la edad de un usuario\n",
    "def obtener_edad(usuario):\n",
    "    return usuario.edad\n",
    "\n",
    "\n",
    "def mostrar_usuarios_ordenados(usuarios, descendente=True):\n",
    "    if not usuarios:\n",
    "        print(\"No hay usuarios en la lista.\")\n",
    "        return\n",
    "    else:\n",
    "        # Usar la función 'obtener_edad' como clave de ordenamiento\n",
    "        ordenados = sorted(usuarios, key=obtener_edad, reverse=descendente)\n",
    "        for usuario in ordenados:\n",
    "            print(usuario)\n"
   ]
  },
  {
   "cell_type": "code",
   "execution_count": 7,
   "metadata": {},
   "outputs": [],
   "source": [
    "# Actualizar un usuario existente\n",
    "def actualizar_usuario(usuarios, email):\n",
    "    usuario = buscar_usuario_por_email(usuarios, email)\n",
    "    if not usuario:\n",
    "        print(\"Usuario no encontrado.\")\n",
    "        return\n",
    "    \n",
    "    print(\"Deja el campo vacío si no quieres cambiarlo.\")\n",
    "    nombre = input(f\"Nuevo nombre ({usuario.nombre}): \") or usuario.nombre\n",
    "    edad = input(f\"Nueva edad ({usuario.edad}): \") or usuario.edad\n",
    "    altura = input(f\"Nueva altura ({usuario.altura}): \") or usuario.altura\n",
    "    estudiante_input = input(\"¿Es estudiante? (sí/no): \").lower()\n",
    "    estudiante = usuario.estudiante if not estudiante_input else estudiante_input == 'sí'\n",
    "\n",
    "    usuario.nombre = nombre\n",
    "    usuario.edad = int(edad)\n",
    "    usuario.altura = float(altura)\n",
    "    usuario.estudiante = estudiante\n",
    "    print(\"Usuario actualizado exitosamente.\")\n"
   ]
  },
  {
   "cell_type": "code",
   "execution_count": 8,
   "metadata": {},
   "outputs": [],
   "source": [
    "# Eliminar un usuario por email\n",
    "def eliminar_usuario(usuarios, email):\n",
    "    for i, usuario in enumerate(usuarios):\n",
    "        if usuario.email == email:\n",
    "            del usuarios[i]\n",
    "            print(\"Usuario eliminado.\")\n",
    "            return\n",
    "    print(\"Usuario no encontrado.\")\n"
   ]
  },
  {
   "cell_type": "code",
   "execution_count": 9,
   "metadata": {},
   "outputs": [],
   "source": [
    "# Eliminar todos los usuarios\n",
    "def eliminar_todos_usuarios(usuarios):\n",
    "    usuarios.clear()\n",
    "    print(\"Todos los usuarios han sido eliminados.\")\n"
   ]
  },
  {
   "cell_type": "markdown",
   "metadata": {},
   "source": [
    "### Crear el menú principal"
   ]
  },
  {
   "cell_type": "code",
   "execution_count": 18,
   "metadata": {},
   "outputs": [],
   "source": [
    "def menu():\n",
    "    usuarios = [] \n",
    "    \n",
    "    # Mostrar el menó solo al inicio cuando entras a la función menu\n",
    "    print(\"\\n--- Menú Principal ---\")\n",
    "    print(\"1. Crear un nuevo usuario\")\n",
    "    print(\"2. Imprimir todos los usuarios\")\n",
    "    print(\"3. Buscar usuario por email\")\n",
    "    print(\"4. Imprimir usuarios ordenados por edad\")\n",
    "    print(\"5. Actualizar un usuario\")\n",
    "    print(\"6. Eliminar un usuario por email\")\n",
    "    print(\"7. Eliminar todos los usuarios\")\n",
    "    print(\"8. Salir\")\n",
    "\n",
    "    while True:\n",
    "        \n",
    "        opcion = input(\"Selecciona una opción: \")\n",
    "\n",
    "        if opcion == '1':\n",
    "            usuario = crear_usuario()\n",
    "            usuarios.append(usuario)\n",
    "            print(\"Usuario creado exitosamente.\")\n",
    "        elif opcion == '2':\n",
    "            mostrar_usuarios(usuarios)\n",
    "        elif opcion == '3':\n",
    "            email = input(\"Email del usuario a buscar: \")\n",
    "            usuario = buscar_usuario_por_email(usuarios, email)\n",
    "            print(usuario if usuario else \"Usuario no encontrado.\")\n",
    "        elif opcion == '4':\n",
    "            orden = input(\"Orden (ascendente/descendente): \").lower() == 'descendente'\n",
    "            mostrar_usuarios_ordenados(usuarios, orden)\n",
    "        elif opcion == '5':\n",
    "            email = input(\"Email del usuario a actualizar: \")\n",
    "            actualizar_usuario(usuarios, email)\n",
    "        elif opcion == '6':\n",
    "            email = input(\"Email del usuario a eliminar: \")\n",
    "            eliminar_usuario(usuarios, email)\n",
    "        elif opcion == '7':\n",
    "            eliminar_todos_usuarios(usuarios)\n",
    "        elif opcion == '8':\n",
    "            print(\"Saliendo del programa...\")\n",
    "            break\n",
    "        else:\n",
    "            print(\"Opción inválida. Inténtalo de nuevo.\")\n"
   ]
  },
  {
   "cell_type": "code",
   "execution_count": 25,
   "metadata": {},
   "outputs": [
    {
     "name": "stdout",
     "output_type": "stream",
     "text": [
      "\n",
      "--- Menú Principal ---\n",
      "1. Crear un nuevo usuario\n",
      "2. Imprimir todos los usuarios\n",
      "3. Buscar usuario por email\n",
      "4. Imprimir usuarios ordenados por edad\n",
      "5. Actualizar un usuario\n",
      "6. Eliminar un usuario por email\n",
      "7. Eliminar todos los usuarios\n",
      "8. Salir\n",
      "Usuario creado exitosamente.\n",
      "Nombre: jajaj, Email: kkaka@gema.com, Edad: 45, Altura: 1.85, Estudiante: True, Cumpleaños: 1985-11-25\n",
      "Nombre: jajaj, Email: kkaka@gema.com, Edad: 45, Altura: 1.85, Estudiante: True, Cumpleaños: 1985-11-25\n",
      "Nombre: jajaj, Email: kkaka@gema.com, Edad: 45, Altura: 1.85, Estudiante: True, Cumpleaños: 1985-11-25\n",
      "Usuario no encontrado.\n",
      "Todos los usuarios han sido eliminados.\n",
      "No hay usuarios en la lista.\n",
      "Saliendo del programa...\n"
     ]
    }
   ],
   "source": [
    "# Ejecutar el programa\n",
    "if __name__ == \"__main__\":\n",
    "    menu()\n"
   ]
  }
 ],
 "metadata": {
  "kernelspec": {
   "display_name": "base",
   "language": "python",
   "name": "python3"
  },
  "language_info": {
   "codemirror_mode": {
    "name": "ipython",
    "version": 3
   },
   "file_extension": ".py",
   "mimetype": "text/x-python",
   "name": "python",
   "nbconvert_exporter": "python",
   "pygments_lexer": "ipython3",
   "version": "3.12.7"
  }
 },
 "nbformat": 4,
 "nbformat_minor": 2
}
